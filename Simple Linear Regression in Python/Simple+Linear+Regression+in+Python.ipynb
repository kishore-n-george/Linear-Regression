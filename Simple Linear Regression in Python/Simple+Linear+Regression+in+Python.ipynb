{
  "cells": [
    {
      "cell_type": "markdown",
      "metadata": {
        "id": "JH_wJqF2ORIc"
      },
      "source": [
        "# Simple Linear Regression\n",
        "\n",
        "In this notebook, we'll build a linear regression model to predict `Sales` using an appropriate predictor variable."
      ]
    },
    {
      "cell_type": "markdown",
      "metadata": {
        "id": "UkuakyYtORIe"
      },
      "source": [
        "## Step 1: Reading and Understanding the Data\n",
        "\n",
        "Let's start with the following steps:\n",
        "\n",
        "1. Importing data using the pandas library\n",
        "2. Understanding the structure of the data"
      ]
    },
    {
      "cell_type": "code",
      "execution_count": 4,
      "metadata": {
        "id": "1E8KNR1IORIe",
        "outputId": "12e5718d-bba1-4067-df6e-cdb8bcec6b4b",
        "colab": {
          "base_uri": "https://localhost:8080/"
        }
      },
      "outputs": [
        {
          "output_type": "stream",
          "name": "stdout",
          "text": [
            "/usr/bin/python3\n",
            "Looking in indexes: https://pypi.org/simple, https://us-python.pkg.dev/colab-wheels/public/simple/\n",
            "Requirement already satisfied: pandas in /usr/local/lib/python3.7/dist-packages (1.3.5)\n",
            "Requirement already satisfied: python-dateutil>=2.7.3 in /usr/local/lib/python3.7/dist-packages (from pandas) (2.8.2)\n",
            "Requirement already satisfied: pytz>=2017.3 in /usr/local/lib/python3.7/dist-packages (from pandas) (2022.6)\n",
            "Requirement already satisfied: numpy>=1.17.3 in /usr/local/lib/python3.7/dist-packages (from pandas) (1.21.6)\n",
            "Requirement already satisfied: six>=1.5 in /usr/local/lib/python3.7/dist-packages (from python-dateutil>=2.7.3->pandas) (1.15.0)\n",
            "Looking in indexes: https://pypi.org/simple, https://us-python.pkg.dev/colab-wheels/public/simple/\n",
            "Requirement already satisfied: numpy in /usr/local/lib/python3.7/dist-packages (1.21.6)\n"
          ]
        }
      ],
      "source": [
        "# Supress Warnings\n",
        "\n",
        "import warnings\n",
        "warnings.filterwarnings('ignore')\n",
        "import sys\n",
        "print(sys.executable)\n",
        "!pip install pandas\n",
        "!pip install numpy"
      ]
    },
    {
      "cell_type": "code",
      "execution_count": 5,
      "metadata": {
        "id": "yyO1wMGeORIf"
      },
      "outputs": [],
      "source": [
        "# Import the numpy and pandas package\n",
        "\n",
        "import numpy as np\n",
        "import pandas as pd"
      ]
    },
    {
      "cell_type": "code",
      "execution_count": 6,
      "metadata": {
        "id": "lzUIpxLQORIf",
        "outputId": "756d5cac-0fa3-4f7e-a62e-b968e829d6e5",
        "colab": {
          "base_uri": "https://localhost:8080/",
          "height": 206
        }
      },
      "outputs": [
        {
          "output_type": "execute_result",
          "data": {
            "text/plain": [
              "      TV  Radio  Newspaper  Sales\n",
              "0  230.1   37.8       69.2   22.1\n",
              "1   44.5   39.3       45.1   10.4\n",
              "2   17.2   45.9       69.3   12.0\n",
              "3  151.5   41.3       58.5   16.5\n",
              "4  180.8   10.8       58.4   17.9"
            ],
            "text/html": [
              "\n",
              "  <div id=\"df-29cf0f5c-2101-4393-b6d8-0e5974a1c271\">\n",
              "    <div class=\"colab-df-container\">\n",
              "      <div>\n",
              "<style scoped>\n",
              "    .dataframe tbody tr th:only-of-type {\n",
              "        vertical-align: middle;\n",
              "    }\n",
              "\n",
              "    .dataframe tbody tr th {\n",
              "        vertical-align: top;\n",
              "    }\n",
              "\n",
              "    .dataframe thead th {\n",
              "        text-align: right;\n",
              "    }\n",
              "</style>\n",
              "<table border=\"1\" class=\"dataframe\">\n",
              "  <thead>\n",
              "    <tr style=\"text-align: right;\">\n",
              "      <th></th>\n",
              "      <th>TV</th>\n",
              "      <th>Radio</th>\n",
              "      <th>Newspaper</th>\n",
              "      <th>Sales</th>\n",
              "    </tr>\n",
              "  </thead>\n",
              "  <tbody>\n",
              "    <tr>\n",
              "      <th>0</th>\n",
              "      <td>230.1</td>\n",
              "      <td>37.8</td>\n",
              "      <td>69.2</td>\n",
              "      <td>22.1</td>\n",
              "    </tr>\n",
              "    <tr>\n",
              "      <th>1</th>\n",
              "      <td>44.5</td>\n",
              "      <td>39.3</td>\n",
              "      <td>45.1</td>\n",
              "      <td>10.4</td>\n",
              "    </tr>\n",
              "    <tr>\n",
              "      <th>2</th>\n",
              "      <td>17.2</td>\n",
              "      <td>45.9</td>\n",
              "      <td>69.3</td>\n",
              "      <td>12.0</td>\n",
              "    </tr>\n",
              "    <tr>\n",
              "      <th>3</th>\n",
              "      <td>151.5</td>\n",
              "      <td>41.3</td>\n",
              "      <td>58.5</td>\n",
              "      <td>16.5</td>\n",
              "    </tr>\n",
              "    <tr>\n",
              "      <th>4</th>\n",
              "      <td>180.8</td>\n",
              "      <td>10.8</td>\n",
              "      <td>58.4</td>\n",
              "      <td>17.9</td>\n",
              "    </tr>\n",
              "  </tbody>\n",
              "</table>\n",
              "</div>\n",
              "      <button class=\"colab-df-convert\" onclick=\"convertToInteractive('df-29cf0f5c-2101-4393-b6d8-0e5974a1c271')\"\n",
              "              title=\"Convert this dataframe to an interactive table.\"\n",
              "              style=\"display:none;\">\n",
              "        \n",
              "  <svg xmlns=\"http://www.w3.org/2000/svg\" height=\"24px\"viewBox=\"0 0 24 24\"\n",
              "       width=\"24px\">\n",
              "    <path d=\"M0 0h24v24H0V0z\" fill=\"none\"/>\n",
              "    <path d=\"M18.56 5.44l.94 2.06.94-2.06 2.06-.94-2.06-.94-.94-2.06-.94 2.06-2.06.94zm-11 1L8.5 8.5l.94-2.06 2.06-.94-2.06-.94L8.5 2.5l-.94 2.06-2.06.94zm10 10l.94 2.06.94-2.06 2.06-.94-2.06-.94-.94-2.06-.94 2.06-2.06.94z\"/><path d=\"M17.41 7.96l-1.37-1.37c-.4-.4-.92-.59-1.43-.59-.52 0-1.04.2-1.43.59L10.3 9.45l-7.72 7.72c-.78.78-.78 2.05 0 2.83L4 21.41c.39.39.9.59 1.41.59.51 0 1.02-.2 1.41-.59l7.78-7.78 2.81-2.81c.8-.78.8-2.07 0-2.86zM5.41 20L4 18.59l7.72-7.72 1.47 1.35L5.41 20z\"/>\n",
              "  </svg>\n",
              "      </button>\n",
              "      \n",
              "  <style>\n",
              "    .colab-df-container {\n",
              "      display:flex;\n",
              "      flex-wrap:wrap;\n",
              "      gap: 12px;\n",
              "    }\n",
              "\n",
              "    .colab-df-convert {\n",
              "      background-color: #E8F0FE;\n",
              "      border: none;\n",
              "      border-radius: 50%;\n",
              "      cursor: pointer;\n",
              "      display: none;\n",
              "      fill: #1967D2;\n",
              "      height: 32px;\n",
              "      padding: 0 0 0 0;\n",
              "      width: 32px;\n",
              "    }\n",
              "\n",
              "    .colab-df-convert:hover {\n",
              "      background-color: #E2EBFA;\n",
              "      box-shadow: 0px 1px 2px rgba(60, 64, 67, 0.3), 0px 1px 3px 1px rgba(60, 64, 67, 0.15);\n",
              "      fill: #174EA6;\n",
              "    }\n",
              "\n",
              "    [theme=dark] .colab-df-convert {\n",
              "      background-color: #3B4455;\n",
              "      fill: #D2E3FC;\n",
              "    }\n",
              "\n",
              "    [theme=dark] .colab-df-convert:hover {\n",
              "      background-color: #434B5C;\n",
              "      box-shadow: 0px 1px 3px 1px rgba(0, 0, 0, 0.15);\n",
              "      filter: drop-shadow(0px 1px 2px rgba(0, 0, 0, 0.3));\n",
              "      fill: #FFFFFF;\n",
              "    }\n",
              "  </style>\n",
              "\n",
              "      <script>\n",
              "        const buttonEl =\n",
              "          document.querySelector('#df-29cf0f5c-2101-4393-b6d8-0e5974a1c271 button.colab-df-convert');\n",
              "        buttonEl.style.display =\n",
              "          google.colab.kernel.accessAllowed ? 'block' : 'none';\n",
              "\n",
              "        async function convertToInteractive(key) {\n",
              "          const element = document.querySelector('#df-29cf0f5c-2101-4393-b6d8-0e5974a1c271');\n",
              "          const dataTable =\n",
              "            await google.colab.kernel.invokeFunction('convertToInteractive',\n",
              "                                                     [key], {});\n",
              "          if (!dataTable) return;\n",
              "\n",
              "          const docLinkHtml = 'Like what you see? Visit the ' +\n",
              "            '<a target=\"_blank\" href=https://colab.research.google.com/notebooks/data_table.ipynb>data table notebook</a>'\n",
              "            + ' to learn more about interactive tables.';\n",
              "          element.innerHTML = '';\n",
              "          dataTable['output_type'] = 'display_data';\n",
              "          await google.colab.output.renderOutput(dataTable, element);\n",
              "          const docLink = document.createElement('div');\n",
              "          docLink.innerHTML = docLinkHtml;\n",
              "          element.appendChild(docLink);\n",
              "        }\n",
              "      </script>\n",
              "    </div>\n",
              "  </div>\n",
              "  "
            ]
          },
          "metadata": {},
          "execution_count": 6
        }
      ],
      "source": [
        "# Read the given CSV file, and view some sample records\n",
        "\n",
        "advertising = pd.read_csv(\"advertising.csv\")\n",
        "advertising.head()"
      ]
    },
    {
      "cell_type": "markdown",
      "metadata": {
        "id": "5P3rR4DpORIg"
      },
      "source": [
        "Let's inspect the various aspects of our dataframe"
      ]
    },
    {
      "cell_type": "code",
      "execution_count": 7,
      "metadata": {
        "scrolled": true,
        "id": "_PGw-ODeORIg",
        "outputId": "86ec1486-c0f8-422e-919c-ac26ec448800",
        "colab": {
          "base_uri": "https://localhost:8080/"
        }
      },
      "outputs": [
        {
          "output_type": "execute_result",
          "data": {
            "text/plain": [
              "(200, 4)"
            ]
          },
          "metadata": {},
          "execution_count": 7
        }
      ],
      "source": [
        "advertising.shape"
      ]
    },
    {
      "cell_type": "code",
      "execution_count": 8,
      "metadata": {
        "id": "qCTNL__ZORIg",
        "outputId": "b43c9daf-cb13-45e7-989d-12cc9c9f9fa2",
        "colab": {
          "base_uri": "https://localhost:8080/"
        }
      },
      "outputs": [
        {
          "output_type": "stream",
          "name": "stdout",
          "text": [
            "<class 'pandas.core.frame.DataFrame'>\n",
            "RangeIndex: 200 entries, 0 to 199\n",
            "Data columns (total 4 columns):\n",
            " #   Column     Non-Null Count  Dtype  \n",
            "---  ------     --------------  -----  \n",
            " 0   TV         200 non-null    float64\n",
            " 1   Radio      200 non-null    float64\n",
            " 2   Newspaper  200 non-null    float64\n",
            " 3   Sales      200 non-null    float64\n",
            "dtypes: float64(4)\n",
            "memory usage: 6.4 KB\n"
          ]
        }
      ],
      "source": [
        "advertising.info()"
      ]
    },
    {
      "cell_type": "code",
      "execution_count": 9,
      "metadata": {
        "id": "Eo6bk6nFORIh",
        "outputId": "7e0cd3aa-fa3f-491d-f036-aa3421a58c2c",
        "colab": {
          "base_uri": "https://localhost:8080/",
          "height": 300
        }
      },
      "outputs": [
        {
          "output_type": "execute_result",
          "data": {
            "text/plain": [
              "               TV       Radio   Newspaper       Sales\n",
              "count  200.000000  200.000000  200.000000  200.000000\n",
              "mean   147.042500   23.264000   30.554000   15.130500\n",
              "std     85.854236   14.846809   21.778621    5.283892\n",
              "min      0.700000    0.000000    0.300000    1.600000\n",
              "25%     74.375000    9.975000   12.750000   11.000000\n",
              "50%    149.750000   22.900000   25.750000   16.000000\n",
              "75%    218.825000   36.525000   45.100000   19.050000\n",
              "max    296.400000   49.600000  114.000000   27.000000"
            ],
            "text/html": [
              "\n",
              "  <div id=\"df-0cb6f79e-d797-4747-8898-ac86c6ae6cad\">\n",
              "    <div class=\"colab-df-container\">\n",
              "      <div>\n",
              "<style scoped>\n",
              "    .dataframe tbody tr th:only-of-type {\n",
              "        vertical-align: middle;\n",
              "    }\n",
              "\n",
              "    .dataframe tbody tr th {\n",
              "        vertical-align: top;\n",
              "    }\n",
              "\n",
              "    .dataframe thead th {\n",
              "        text-align: right;\n",
              "    }\n",
              "</style>\n",
              "<table border=\"1\" class=\"dataframe\">\n",
              "  <thead>\n",
              "    <tr style=\"text-align: right;\">\n",
              "      <th></th>\n",
              "      <th>TV</th>\n",
              "      <th>Radio</th>\n",
              "      <th>Newspaper</th>\n",
              "      <th>Sales</th>\n",
              "    </tr>\n",
              "  </thead>\n",
              "  <tbody>\n",
              "    <tr>\n",
              "      <th>count</th>\n",
              "      <td>200.000000</td>\n",
              "      <td>200.000000</td>\n",
              "      <td>200.000000</td>\n",
              "      <td>200.000000</td>\n",
              "    </tr>\n",
              "    <tr>\n",
              "      <th>mean</th>\n",
              "      <td>147.042500</td>\n",
              "      <td>23.264000</td>\n",
              "      <td>30.554000</td>\n",
              "      <td>15.130500</td>\n",
              "    </tr>\n",
              "    <tr>\n",
              "      <th>std</th>\n",
              "      <td>85.854236</td>\n",
              "      <td>14.846809</td>\n",
              "      <td>21.778621</td>\n",
              "      <td>5.283892</td>\n",
              "    </tr>\n",
              "    <tr>\n",
              "      <th>min</th>\n",
              "      <td>0.700000</td>\n",
              "      <td>0.000000</td>\n",
              "      <td>0.300000</td>\n",
              "      <td>1.600000</td>\n",
              "    </tr>\n",
              "    <tr>\n",
              "      <th>25%</th>\n",
              "      <td>74.375000</td>\n",
              "      <td>9.975000</td>\n",
              "      <td>12.750000</td>\n",
              "      <td>11.000000</td>\n",
              "    </tr>\n",
              "    <tr>\n",
              "      <th>50%</th>\n",
              "      <td>149.750000</td>\n",
              "      <td>22.900000</td>\n",
              "      <td>25.750000</td>\n",
              "      <td>16.000000</td>\n",
              "    </tr>\n",
              "    <tr>\n",
              "      <th>75%</th>\n",
              "      <td>218.825000</td>\n",
              "      <td>36.525000</td>\n",
              "      <td>45.100000</td>\n",
              "      <td>19.050000</td>\n",
              "    </tr>\n",
              "    <tr>\n",
              "      <th>max</th>\n",
              "      <td>296.400000</td>\n",
              "      <td>49.600000</td>\n",
              "      <td>114.000000</td>\n",
              "      <td>27.000000</td>\n",
              "    </tr>\n",
              "  </tbody>\n",
              "</table>\n",
              "</div>\n",
              "      <button class=\"colab-df-convert\" onclick=\"convertToInteractive('df-0cb6f79e-d797-4747-8898-ac86c6ae6cad')\"\n",
              "              title=\"Convert this dataframe to an interactive table.\"\n",
              "              style=\"display:none;\">\n",
              "        \n",
              "  <svg xmlns=\"http://www.w3.org/2000/svg\" height=\"24px\"viewBox=\"0 0 24 24\"\n",
              "       width=\"24px\">\n",
              "    <path d=\"M0 0h24v24H0V0z\" fill=\"none\"/>\n",
              "    <path d=\"M18.56 5.44l.94 2.06.94-2.06 2.06-.94-2.06-.94-.94-2.06-.94 2.06-2.06.94zm-11 1L8.5 8.5l.94-2.06 2.06-.94-2.06-.94L8.5 2.5l-.94 2.06-2.06.94zm10 10l.94 2.06.94-2.06 2.06-.94-2.06-.94-.94-2.06-.94 2.06-2.06.94z\"/><path d=\"M17.41 7.96l-1.37-1.37c-.4-.4-.92-.59-1.43-.59-.52 0-1.04.2-1.43.59L10.3 9.45l-7.72 7.72c-.78.78-.78 2.05 0 2.83L4 21.41c.39.39.9.59 1.41.59.51 0 1.02-.2 1.41-.59l7.78-7.78 2.81-2.81c.8-.78.8-2.07 0-2.86zM5.41 20L4 18.59l7.72-7.72 1.47 1.35L5.41 20z\"/>\n",
              "  </svg>\n",
              "      </button>\n",
              "      \n",
              "  <style>\n",
              "    .colab-df-container {\n",
              "      display:flex;\n",
              "      flex-wrap:wrap;\n",
              "      gap: 12px;\n",
              "    }\n",
              "\n",
              "    .colab-df-convert {\n",
              "      background-color: #E8F0FE;\n",
              "      border: none;\n",
              "      border-radius: 50%;\n",
              "      cursor: pointer;\n",
              "      display: none;\n",
              "      fill: #1967D2;\n",
              "      height: 32px;\n",
              "      padding: 0 0 0 0;\n",
              "      width: 32px;\n",
              "    }\n",
              "\n",
              "    .colab-df-convert:hover {\n",
              "      background-color: #E2EBFA;\n",
              "      box-shadow: 0px 1px 2px rgba(60, 64, 67, 0.3), 0px 1px 3px 1px rgba(60, 64, 67, 0.15);\n",
              "      fill: #174EA6;\n",
              "    }\n",
              "\n",
              "    [theme=dark] .colab-df-convert {\n",
              "      background-color: #3B4455;\n",
              "      fill: #D2E3FC;\n",
              "    }\n",
              "\n",
              "    [theme=dark] .colab-df-convert:hover {\n",
              "      background-color: #434B5C;\n",
              "      box-shadow: 0px 1px 3px 1px rgba(0, 0, 0, 0.15);\n",
              "      filter: drop-shadow(0px 1px 2px rgba(0, 0, 0, 0.3));\n",
              "      fill: #FFFFFF;\n",
              "    }\n",
              "  </style>\n",
              "\n",
              "      <script>\n",
              "        const buttonEl =\n",
              "          document.querySelector('#df-0cb6f79e-d797-4747-8898-ac86c6ae6cad button.colab-df-convert');\n",
              "        buttonEl.style.display =\n",
              "          google.colab.kernel.accessAllowed ? 'block' : 'none';\n",
              "\n",
              "        async function convertToInteractive(key) {\n",
              "          const element = document.querySelector('#df-0cb6f79e-d797-4747-8898-ac86c6ae6cad');\n",
              "          const dataTable =\n",
              "            await google.colab.kernel.invokeFunction('convertToInteractive',\n",
              "                                                     [key], {});\n",
              "          if (!dataTable) return;\n",
              "\n",
              "          const docLinkHtml = 'Like what you see? Visit the ' +\n",
              "            '<a target=\"_blank\" href=https://colab.research.google.com/notebooks/data_table.ipynb>data table notebook</a>'\n",
              "            + ' to learn more about interactive tables.';\n",
              "          element.innerHTML = '';\n",
              "          dataTable['output_type'] = 'display_data';\n",
              "          await google.colab.output.renderOutput(dataTable, element);\n",
              "          const docLink = document.createElement('div');\n",
              "          docLink.innerHTML = docLinkHtml;\n",
              "          element.appendChild(docLink);\n",
              "        }\n",
              "      </script>\n",
              "    </div>\n",
              "  </div>\n",
              "  "
            ]
          },
          "metadata": {},
          "execution_count": 9
        }
      ],
      "source": [
        "advertising.describe()"
      ]
    },
    {
      "cell_type": "markdown",
      "metadata": {
        "id": "KZVLe2XjORIh"
      },
      "source": [
        "## Step 2: Visualising the Data\n",
        "\n",
        "Let's now visualise our data using seaborn. We'll first make a pairplot of all the variables present to visualise which variables are most correlated to `Sales`."
      ]
    },
    {
      "cell_type": "code",
      "execution_count": 33,
      "metadata": {
        "id": "tX6EW9OLORIh",
        "outputId": "be8c9d62-8b83-4027-c29d-5545622db0ba",
        "colab": {
          "base_uri": "https://localhost:8080/"
        }
      },
      "outputs": [
        {
          "output_type": "stream",
          "name": "stdout",
          "text": [
            "Looking in indexes: https://pypi.org/simple, https://us-python.pkg.dev/colab-wheels/public/simple/\n",
            "Requirement already satisfied: matplotlib in /usr/local/lib/python3.7/dist-packages (3.2.2)\n",
            "Requirement already satisfied: pyparsing!=2.0.4,!=2.1.2,!=2.1.6,>=2.0.1 in /usr/local/lib/python3.7/dist-packages (from matplotlib) (3.0.9)\n",
            "Requirement already satisfied: python-dateutil>=2.1 in /usr/local/lib/python3.7/dist-packages (from matplotlib) (2.8.2)\n",
            "Requirement already satisfied: cycler>=0.10 in /usr/local/lib/python3.7/dist-packages (from matplotlib) (0.11.0)\n",
            "Requirement already satisfied: numpy>=1.11 in /usr/local/lib/python3.7/dist-packages (from matplotlib) (1.21.6)\n",
            "Requirement already satisfied: kiwisolver>=1.0.1 in /usr/local/lib/python3.7/dist-packages (from matplotlib) (1.4.4)\n",
            "Requirement already satisfied: typing-extensions in /usr/local/lib/python3.7/dist-packages (from kiwisolver>=1.0.1->matplotlib) (4.1.1)\n",
            "Requirement already satisfied: six>=1.5 in /usr/local/lib/python3.7/dist-packages (from python-dateutil>=2.1->matplotlib) (1.15.0)\n",
            "Looking in indexes: https://pypi.org/simple, https://us-python.pkg.dev/colab-wheels/public/simple/\n",
            "Requirement already satisfied: seaborn in /usr/local/lib/python3.7/dist-packages (0.11.2)\n",
            "Requirement already satisfied: numpy>=1.15 in /usr/local/lib/python3.7/dist-packages (from seaborn) (1.21.6)\n",
            "Requirement already satisfied: pandas>=0.23 in /usr/local/lib/python3.7/dist-packages (from seaborn) (1.3.5)\n",
            "Requirement already satisfied: scipy>=1.0 in /usr/local/lib/python3.7/dist-packages (from seaborn) (1.7.3)\n",
            "Requirement already satisfied: matplotlib>=2.2 in /usr/local/lib/python3.7/dist-packages (from seaborn) (3.2.2)\n",
            "Requirement already satisfied: cycler>=0.10 in /usr/local/lib/python3.7/dist-packages (from matplotlib>=2.2->seaborn) (0.11.0)\n",
            "Requirement already satisfied: pyparsing!=2.0.4,!=2.1.2,!=2.1.6,>=2.0.1 in /usr/local/lib/python3.7/dist-packages (from matplotlib>=2.2->seaborn) (3.0.9)\n",
            "Requirement already satisfied: python-dateutil>=2.1 in /usr/local/lib/python3.7/dist-packages (from matplotlib>=2.2->seaborn) (2.8.2)\n",
            "Requirement already satisfied: kiwisolver>=1.0.1 in /usr/local/lib/python3.7/dist-packages (from matplotlib>=2.2->seaborn) (1.4.4)\n",
            "Requirement already satisfied: typing-extensions in /usr/local/lib/python3.7/dist-packages (from kiwisolver>=1.0.1->matplotlib>=2.2->seaborn) (4.1.1)\n",
            "Requirement already satisfied: pytz>=2017.3 in /usr/local/lib/python3.7/dist-packages (from pandas>=0.23->seaborn) (2022.6)\n",
            "Requirement already satisfied: six>=1.5 in /usr/local/lib/python3.7/dist-packages (from python-dateutil>=2.1->matplotlib>=2.2->seaborn) (1.15.0)\n"
          ]
        }
      ],
      "source": [
        "!pip install matplotlib\n",
        "!pip install seaborn\n",
        "import matplotlib.pyplot as plt \n",
        "import seaborn as sns"
      ]
    },
    {
      "cell_type": "code",
      "execution_count": 31,
      "metadata": {
        "id": "5xCyQbmqORIi",
        "outputId": "ecc120a8-ffe2-489e-839d-b7a1a63e1c6f",
        "colab": {
          "base_uri": "https://localhost:8080/",
          "height": 297
        }
      },
      "outputs": [
        {
          "output_type": "execute_result",
          "data": {
            "text/plain": [
              "<matplotlib.axes._subplots.AxesSubplot at 0x7ff1c4e33410>"
            ]
          },
          "metadata": {},
          "execution_count": 31
        },
        {
          "output_type": "display_data",
          "data": {
            "text/plain": [
              "<Figure size 432x288 with 1 Axes>"
            ],
            "image/png": "[encoded data removed]"
          },
          "metadata": {
            "needs_background": "light"
          }
        }
      ],
      "source": [
        "sns.regplot(x='TV', y='Sales',data=advertising)\n"
      ]
    },
    {
      "cell_type": "code",
      "execution_count": 30,
      "metadata": {
        "id": "l8iMa6YUORIi",
        "outputId": "cdb2d1c2-f22e-4026-be2c-d4bca0a874f6",
        "colab": {
          "base_uri": "https://localhost:8080/",
          "height": 297
        }
      },
      "outputs": [
        {
          "output_type": "execute_result",
          "data": {
            "text/plain": [
              "<matplotlib.axes._subplots.AxesSubplot at 0x7ff1c85f3690>"
            ]
          },
          "metadata": {},
          "execution_count": 30
        },
        {
          "output_type": "display_data",
          "data": {
            "text/plain": [
              "<Figure size 432x288 with 1 Axes>"
            ],
            "image/png": "[encoded data removed]"
          },
          "metadata": {
            "needs_background": "light"
          }
        }
      ],
      "source": [
        "sns.regplot(x='Radio', y='Sales',data=advertising)"
      ]
    },
    {
      "cell_type": "code",
      "execution_count": 29,
      "metadata": {
        "id": "OBgLQgDQORIi",
        "outputId": "a3a783c5-398d-4018-ef9a-2ad693a35099",
        "colab": {
          "base_uri": "https://localhost:8080/",
          "height": 297
        }
      },
      "outputs": [
        {
          "output_type": "execute_result",
          "data": {
            "text/plain": [
              "<matplotlib.axes._subplots.AxesSubplot at 0x7ff1c4ef20d0>"
            ]
          },
          "metadata": {},
          "execution_count": 29
        },
        {
          "output_type": "display_data",
          "data": {
            "text/plain": [
              "<Figure size 432x288 with 1 Axes>"
            ],
            "image/png": "[encoded data removed]"
          },
          "metadata": {
            "needs_background": "light"
          }
        }
      ],
      "source": [
        "sns.regplot(x='Newspaper', y='Sales',data=advertising)"
      ]
    },
    {
      "cell_type": "code",
      "execution_count": 34,
      "metadata": {
        "id": "QABxsepTORIj",
        "outputId": "68126095-135f-4dea-8e41-68dd593b4a4a",
        "colab": {
          "base_uri": "https://localhost:8080/",
          "height": 303
        }
      },
      "outputs": [
        {
          "output_type": "display_data",
          "data": {
            "text/plain": [
              "<Figure size 864x288 with 3 Axes>"
            ],
            "image/png": "[encoded data removed]"
          },
          "metadata": {
            "needs_background": "light"
          }
        }
      ],
      "source": [
        "#pairplot helps to visualise all the varibales together.\n",
        "sns.pairplot(advertising, x_vars=['TV', 'Newspaper', 'Radio'], y_vars='Sales',size=4, aspect=1, kind='scatter')\n",
        "plt.show()"
      ]
    },
    {
      "cell_type": "code",
      "execution_count": 35,
      "metadata": {
        "id": "2e0AVdWbORIj",
        "outputId": "e5dbe68f-5486-430a-adc6-03f9372453a2",
        "colab": {
          "base_uri": "https://localhost:8080/",
          "height": 269
        }
      },
      "outputs": [
        {
          "output_type": "display_data",
          "data": {
            "text/plain": [
              "<Figure size 432x288 with 2 Axes>"
            ],
            "image/png": "[encoded data removed]"
          },
          "metadata": {
            "needs_background": "light"
          }
        }
      ],
      "source": [
        "sns.heatmap(advertising.corr(), cmap=\"YlGnBu\", annot = True)\n",
        "plt.show()"
      ]
    },
    {
      "cell_type": "markdown",
      "metadata": {
        "id": "R5x5DRLTORIk"
      },
      "source": [
        "As is visible from the pairplot and the heatmap, the variable `TV` seems to be most correlated with `Sales`. So let's go ahead and perform simple linear regression using `TV` as our feature variable."
      ]
    },
    {
      "cell_type": "markdown",
      "metadata": {
        "id": "_EZxwVyXORIk"
      },
      "source": [
        "---\n",
        "## Step 3: Performing Simple Linear Regression\n",
        "\n",
        "Equation of linear regression<br>\n",
        "$y = c + m_1x_1 + m_2x_2 + ... + m_nx_n$\n",
        "\n",
        "-  $y$ is the response\n",
        "-  $c$ is the intercept\n",
        "-  $m_1$ is the coefficient for the first feature\n",
        "-  $m_n$ is the coefficient for the nth feature<br>\n",
        "\n",
        "In our case:\n",
        "\n",
        "$y = c + m_1 \\times TV$\n",
        "\n",
        "The $m$ values are called the model **coefficients** or **model parameters**.\n",
        "\n",
        "---"
      ]
    },
    {
      "cell_type": "markdown",
      "metadata": {
        "id": "fxI7pwv1ORIk"
      },
      "source": [
        "### Generic Steps in model building using `statsmodels`\n",
        "\n",
        "We first assign the feature variable, `TV`, in this case, to the variable `X` and the response variable, `Sales`, to the variable `y`."
      ]
    },
    {
      "cell_type": "code",
      "execution_count": 16,
      "metadata": {
        "id": "zI6mh-LpORIl"
      },
      "outputs": [],
      "source": [
        "X = advertising['TV']\n",
        "y = advertising['Sales']"
      ]
    },
    {
      "cell_type": "markdown",
      "metadata": {
        "id": "-gSNz98hORIl"
      },
      "source": [
        "#### Train-Test Split\n",
        "\n",
        "You now need to split our variable into training and testing sets. You'll perform this by importing `train_test_split` from the `sklearn.model_selection` library. It is usually a good practice to keep 70% of the data in your train dataset and the rest 30% in your test dataset"
      ]
    },
    {
      "cell_type": "code",
      "execution_count": 17,
      "metadata": {
        "id": "oce50vf8ORIl"
      },
      "outputs": [],
      "source": [
        "from sklearn.model_selection import train_test_split\n",
        "X_train, X_test, y_train, y_test = train_test_split(X, y, train_size = 0.7, test_size = 0.3, random_state = 100)"
      ]
    },
    {
      "cell_type": "code",
      "execution_count": 18,
      "metadata": {
        "id": "h9-w_Q2yORIl",
        "outputId": "88ae820d-eec2-4f81-d99f-1cbdcebc4418",
        "colab": {
          "base_uri": "https://localhost:8080/"
        }
      },
      "outputs": [
        {
          "output_type": "execute_result",
          "data": {
            "text/plain": [
              "74     213.4\n",
              "3      151.5\n",
              "185    205.0\n",
              "26     142.9\n",
              "90     134.3\n",
              "Name: TV, dtype: float64"
            ]
          },
          "metadata": {},
          "execution_count": 18
        }
      ],
      "source": [
        "# Let's now take a look at the train dataset\n",
        "\n",
        "X_train.head()"
      ]
    },
    {
      "cell_type": "code",
      "execution_count": 19,
      "metadata": {
        "id": "fU8R5rqQORIm",
        "outputId": "288b087a-f771-4d39-e709-19470b91e8e8",
        "colab": {
          "base_uri": "https://localhost:8080/"
        }
      },
      "outputs": [
        {
          "output_type": "execute_result",
          "data": {
            "text/plain": [
              "74     17.0\n",
              "3      16.5\n",
              "185    22.6\n",
              "26     15.0\n",
              "90     14.0\n",
              "Name: Sales, dtype: float64"
            ]
          },
          "metadata": {},
          "execution_count": 19
        }
      ],
      "source": [
        "y_train.head()"
      ]
    },
    {
      "cell_type": "markdown",
      "metadata": {
        "id": "Qype3jm_ORIm"
      },
      "source": [
        "#### Building a Linear Model\n",
        "\n",
        "You first need to import the `statsmodel.api` library using which you'll perform the linear regression."
      ]
    },
    {
      "cell_type": "code",
      "execution_count": 20,
      "metadata": {
        "id": "MfTagYjJORIm"
      },
      "outputs": [],
      "source": [
        "import statsmodels.api as sm"
      ]
    },
    {
      "cell_type": "markdown",
      "metadata": {
        "id": "rnezCfq6ORIo"
      },
      "source": [
        "By default, the `statsmodels` library fits a line on the dataset which passes through the origin. But in order to have an intercept, you need to manually use the `add_constant` attribute of `statsmodels`. And once you've added the constant to your `X_train` dataset, you can go ahead and fit a regression line using the `OLS` (Ordinary Least Squares) attribute of `statsmodels` as shown below"
      ]
    },
    {
      "cell_type": "code",
      "execution_count": 21,
      "metadata": {
        "id": "Xm5dbosJORIo"
      },
      "outputs": [],
      "source": [
        "# Add a constant to get an intercept\n",
        "X_train_sm = sm.add_constant(X_train)\n",
        "\n",
        "# Fit the resgression line using 'OLS'\n",
        "lr = sm.OLS(y_train, X_train_sm).fit()"
      ]
    },
    {
      "cell_type": "code",
      "execution_count": 22,
      "metadata": {
        "id": "qtdMvPafORIo",
        "outputId": "0c8caa64-42c0-4e88-e5cd-679065d28e20",
        "colab": {
          "base_uri": "https://localhost:8080/"
        }
      },
      "outputs": [
        {
          "output_type": "execute_result",
          "data": {
            "text/plain": [
              "const    6.948683\n",
              "TV       0.054546\n",
              "dtype: float64"
            ]
          },
          "metadata": {},
          "execution_count": 22
        }
      ],
      "source": [
        "# Print the parameters, i.e. the intercept and the slope of the regression line fitted\n",
        "lr.params"
      ]
    },
    {
      "cell_type": "code",
      "execution_count": 23,
      "metadata": {
        "id": "GDQlmgNVORIo",
        "outputId": "c70213c5-8afc-45de-a104-88f4644d9e85",
        "colab": {
          "base_uri": "https://localhost:8080/"
        }
      },
      "outputs": [
        {
          "output_type": "stream",
          "name": "stdout",
          "text": [
            "                            OLS Regression Results                            \n",
            "==============================================================================\n",
            "Dep. Variable:                  Sales   R-squared:                       0.816\n",
            "Model:                            OLS   Adj. R-squared:                  0.814\n",
            "Method:                 Least Squares   F-statistic:                     611.2\n",
            "Date:                Sun, 13 Nov 2022   Prob (F-statistic):           1.52e-52\n",
            "Time:                        05:05:13   Log-Likelihood:                -321.12\n",
            "No. Observations:                 140   AIC:                             646.2\n",
            "Df Residuals:                     138   BIC:                             652.1\n",
            "Df Model:                           1                                         \n",
            "Covariance Type:            nonrobust                                         \n",
            "==============================================================================\n",
            "                 coef    std err          t      P>|t|      [0.025      0.975]\n",
            "------------------------------------------------------------------------------\n",
            "const          6.9487      0.385     18.068      0.000       6.188       7.709\n",
            "TV             0.0545      0.002     24.722      0.000       0.050       0.059\n",
            "==============================================================================\n",
            "Omnibus:                        0.027   Durbin-Watson:                   2.196\n",
            "Prob(Omnibus):                  0.987   Jarque-Bera (JB):                0.150\n",
            "Skew:                          -0.006   Prob(JB):                        0.928\n",
            "Kurtosis:                       2.840   Cond. No.                         328.\n",
            "==============================================================================\n",
            "\n",
            "Notes:\n",
            "[1] Standard Errors assume that the covariance matrix of the errors is correctly specified.\n"
          ]
        }
      ],
      "source": [
        "# Performing a summary operation lists out all the different parameters of the regression line fitted\n",
        "print(lr.summary())"
      ]
    },
    {
      "cell_type": "markdown",
      "metadata": {
        "id": "ZeakV5aiORIp"
      },
      "source": [
        "####  Looking at some key statistics from the summary"
      ]
    },
    {
      "cell_type": "markdown",
      "metadata": {
        "id": "Sv2BptXpORIp"
      },
      "source": [
        "The values we are concerned with are - \n",
        "1. The coefficients and significance (p-values)\n",
        "2. R-squared\n",
        "3. F statistic and its significance"
      ]
    },
    {
      "cell_type": "markdown",
      "metadata": {
        "id": "sTWyXyHRORIp"
      },
      "source": [
        "##### 1. The coefficient for TV is 0.054, with a very low p value\n",
        "The coefficient is statistically significant. So the association is not purely by chance. "
      ]
    },
    {
      "cell_type": "markdown",
      "metadata": {
        "id": "4MRuNzUQORIp"
      },
      "source": [
        "##### 2. R - squared is 0.816\n",
        "Meaning that 81.6% of the variance in `Sales` is explained by `TV`\n",
        "\n",
        "This is a decent R-squared value."
      ]
    },
    {
      "cell_type": "markdown",
      "metadata": {
        "id": "svYN24NcORIp"
      },
      "source": [
        "###### 3. F statistic has a very low p value (practically low)\n",
        "Meaning that the model fit is statistically significant, and the explained variance isn't purely by chance."
      ]
    },
    {
      "cell_type": "markdown",
      "metadata": {
        "id": "VmYlrpliORIp"
      },
      "source": [
        "---\n",
        "The fit is significant. Let's visualize how well the model fit the data.\n",
        "\n",
        "From the parameters that we get, our linear regression equation becomes:\n",
        "\n",
        "$ Sales = 6.948 + 0.054 \\times TV $"
      ]
    },
    {
      "cell_type": "code",
      "execution_count": 36,
      "metadata": {
        "scrolled": true,
        "id": "k1j0gBW0ORIp",
        "outputId": "477d645f-531b-4ebe-c7ee-21aa3b24fe11",
        "colab": {
          "base_uri": "https://localhost:8080/",
          "height": 265
        }
      },
      "outputs": [
        {
          "output_type": "display_data",
          "data": {
            "text/plain": [
              "<Figure size 432x288 with 1 Axes>"
            ],
            "image/png": "[encoded data removed]"
          },
          "metadata": {
            "needs_background": "light"
          }
        }
      ],
      "source": [
        "plt.scatter(X_train, y_train)\n",
        "plt.plot(X_train, 6.948 + 0.054*X_train, 'r')\n",
        "plt.show()"
      ]
    },
    {
      "cell_type": "markdown",
      "metadata": {
        "id": "zb2Oz1cpORIq"
      },
      "source": [
        "## Step 4: Residual analysis \n",
        "To validate assumptions of the model, and hence the reliability for inference"
      ]
    },
    {
      "cell_type": "markdown",
      "metadata": {
        "id": "sMUFa4bFORIq"
      },
      "source": [
        "#### Distribution of the error terms\n",
        "We need to check if the error terms are also normally distributed (which is infact, one of the major assumptions of linear regression), let us plot the histogram of the error terms and see what it looks like."
      ]
    },
    {
      "cell_type": "code",
      "execution_count": 37,
      "metadata": {
        "id": "5aUBag2HORIq"
      },
      "outputs": [],
      "source": [
        "y_train_pred = lr.predict(X_train_sm)\n",
        "res = (y_train - y_train_pred)"
      ]
    },
    {
      "cell_type": "code",
      "execution_count": 38,
      "metadata": {
        "scrolled": true,
        "id": "Pug5q8BAORIq",
        "outputId": "bf9b3d49-2f3b-458e-90fd-7c7183e70b33",
        "colab": {
          "base_uri": "https://localhost:8080/",
          "height": 314
        }
      },
      "outputs": [
        {
          "output_type": "display_data",
          "data": {
            "text/plain": [
              "<Figure size 432x288 with 1 Axes>"
            ],
            "image/png": "[encoded data removed]"
          },
          "metadata": {
            "needs_background": "light"
          }
        }
      ],
      "source": [
        "fig = plt.figure()\n",
        "sns.distplot(res, bins = 15)\n",
        "fig.suptitle('Error Terms', fontsize = 15)                  # Plot heading \n",
        "plt.xlabel('y_train - y_train_pred', fontsize = 15)         # X-label\n",
        "plt.show()"
      ]
    },
    {
      "cell_type": "markdown",
      "metadata": {
        "id": "p0ohB-uFORIq"
      },
      "source": [
        "The residuals are following the normally distributed with a mean 0. All good!"
      ]
    },
    {
      "cell_type": "markdown",
      "metadata": {
        "id": "VVWUy12eORIr"
      },
      "source": [
        "#### Looking for patterns in the residuals"
      ]
    },
    {
      "cell_type": "code",
      "execution_count": 39,
      "metadata": {
        "id": "2gUYEu50ORIr",
        "outputId": "f6020822-1b7f-43f2-87a3-d13e7f04c0b4",
        "colab": {
          "base_uri": "https://localhost:8080/",
          "height": 265
        }
      },
      "outputs": [
        {
          "output_type": "display_data",
          "data": {
            "text/plain": [
              "<Figure size 432x288 with 1 Axes>"
            ],
            "image/png": "[encoded data removed]"
          },
          "metadata": {
            "needs_background": "light"
          }
        }
      ],
      "source": [
        "plt.scatter(X_train,res)\n",
        "plt.show()"
      ]
    },
    {
      "cell_type": "markdown",
      "metadata": {
        "id": "T4uNAG4sORIr"
      },
      "source": [
        "We are confident that the model fit isn't by chance, and has decent predictive power. The normality of residual terms allows some inference on the coefficients.\n",
        "\n",
        "Although, the variance of residuals increasing with X indicates that there is significant variation that this model is unable to explain."
      ]
    },
    {
      "cell_type": "markdown",
      "metadata": {
        "id": "SOK8HiIcORIr"
      },
      "source": [
        "As you can see, the regression line is a pretty good fit to the data"
      ]
    },
    {
      "cell_type": "markdown",
      "metadata": {
        "id": "jdrxT0bbORIr"
      },
      "source": [
        "## Step 5: Predictions on the Test Set\n",
        "\n",
        "Now that you have fitted a regression line on your train dataset, it's time to make some predictions on the test data. For this, you first need to add a constant to the `X_test` data like you did for `X_train` and then you can simply go on and predict the y values corresponding to `X_test` using the `predict` attribute of the fitted regression line."
      ]
    },
    {
      "cell_type": "code",
      "execution_count": null,
      "metadata": {
        "id": "pyn2FVipORIr"
      },
      "outputs": [],
      "source": [
        "# Add a constant to X_test\n",
        "X_test_sm = sm.add_constant(X_test)\n",
        "\n",
        "# Predict the y values corresponding to X_test_sm\n",
        "y_pred = lr.predict(X_test_sm)"
      ]
    },
    {
      "cell_type": "code",
      "execution_count": null,
      "metadata": {
        "id": "XO1yz0QVORIs",
        "outputId": "b8e2273a-5f31-4cf6-a0df-6f0925a7bd02"
      },
      "outputs": [
        {
          "data": {
            "text/plain": [
              "126     7.374140\n",
              "104    19.941482\n",
              "99     14.323269\n",
              "92     18.823294\n",
              "111    20.132392\n",
              "dtype: float64"
            ]
          },
          "execution_count": 23,
          "metadata": {},
          "output_type": "execute_result"
        }
      ],
      "source": [
        "y_pred.head()"
      ]
    },
    {
      "cell_type": "code",
      "execution_count": null,
      "metadata": {
        "id": "aWlFJ6SiORIs"
      },
      "outputs": [],
      "source": [
        "from sklearn.metrics import mean_squared_error\n",
        "from sklearn.metrics import r2_score"
      ]
    },
    {
      "cell_type": "markdown",
      "metadata": {
        "id": "tM0l9cTWORIs"
      },
      "source": [
        "##### Looking at the RMSE"
      ]
    },
    {
      "cell_type": "code",
      "execution_count": null,
      "metadata": {
        "id": "34A9cu-ZORIs",
        "outputId": "cd1bbdd1-01a7-4206-8630-91188929b5c1"
      },
      "outputs": [
        {
          "data": {
            "text/plain": [
              "2.019296008966233"
            ]
          },
          "execution_count": 25,
          "metadata": {},
          "output_type": "execute_result"
        }
      ],
      "source": [
        "#Returns the mean squared error; we'll take a square root\n",
        "np.sqrt(mean_squared_error(y_test, y_pred))"
      ]
    },
    {
      "cell_type": "markdown",
      "metadata": {
        "id": "eMnZAZLMORIs"
      },
      "source": [
        "###### Checking the R-squared on the test set"
      ]
    },
    {
      "cell_type": "code",
      "execution_count": null,
      "metadata": {
        "id": "CgFIKAGUORIt",
        "outputId": "f1dda432-4539-4a36-8e7d-89381734bf1c"
      },
      "outputs": [
        {
          "data": {
            "text/plain": [
              "0.7921031601245658"
            ]
          },
          "execution_count": 26,
          "metadata": {},
          "output_type": "execute_result"
        }
      ],
      "source": [
        "r_squared = r2_score(y_test, y_pred)\n",
        "r_squared"
      ]
    },
    {
      "cell_type": "markdown",
      "metadata": {
        "id": "beBns0aaORIt"
      },
      "source": [
        "##### Visualizing the fit on the test set"
      ]
    },
    {
      "cell_type": "code",
      "execution_count": null,
      "metadata": {
        "scrolled": true,
        "id": "x_C2TGZUORIt",
        "outputId": "ae269067-4da0-42a2-f009-9a480234e240"
      },
      "outputs": [
        {
          "data": {
            "image/png": "[encoded data removed]",
            "text/plain": [
              "<matplotlib.figure.Figure at 0x245698f7e48>"
            ]
          },
          "metadata": {},
          "output_type": "display_data"
        }
      ],
      "source": [
        "plt.scatter(X_test, y_test)\n",
        "plt.plot(X_test, 6.948 + 0.054 * X_test, 'r')\n",
        "plt.show()"
      ]
    },
    {
      "cell_type": "markdown",
      "metadata": {
        "id": "gUCCh0OvORIt"
      },
      "source": [
        " "
      ]
    },
    {
      "cell_type": "markdown",
      "metadata": {
        "id": "nOhSuUfVORIt"
      },
      "source": [
        " "
      ]
    },
    {
      "cell_type": "markdown",
      "metadata": {
        "id": "bol_YqV_ORIt"
      },
      "source": [
        " "
      ]
    },
    {
      "cell_type": "markdown",
      "metadata": {
        "id": "lFWI-eT2ORIt"
      },
      "source": [
        " "
      ]
    },
    {
      "cell_type": "markdown",
      "metadata": {
        "id": "IrDtWNe7ORIu"
      },
      "source": [
        "### Linear Regression using `linear_model` in `sklearn`\n",
        "\n",
        "Apart from `statsmodels`, there is another package namely `sklearn` that can be used to perform linear regression. We will use the `linear_model` library from `sklearn` to build the model. Since, we hae already performed a train-test split, we don't need to do it again.\n",
        "\n",
        "There's one small step that we need to add, though. When there's only a single feature, we need to add an additional column in order for the linear regression fit to be performed successfully."
      ]
    },
    {
      "cell_type": "code",
      "execution_count": null,
      "metadata": {
        "id": "-HCHIZDfORIu"
      },
      "outputs": [],
      "source": [
        "from sklearn.model_selection import train_test_split\n",
        "X_train_lm, X_test_lm, y_train_lm, y_test_lm = train_test_split(X, y, train_size = 0.7, test_size = 0.3, random_state = 100)"
      ]
    },
    {
      "cell_type": "code",
      "execution_count": null,
      "metadata": {
        "id": "_LOF9Py5ORIu",
        "outputId": "a094ed9e-b08b-43d2-9be6-1c1b5146926e"
      },
      "outputs": [
        {
          "data": {
            "text/plain": [
              "(140,)"
            ]
          },
          "execution_count": 29,
          "metadata": {},
          "output_type": "execute_result"
        }
      ],
      "source": [
        "X_train_lm.shape"
      ]
    },
    {
      "cell_type": "code",
      "execution_count": null,
      "metadata": {
        "id": "2tdGxlr6ORIu"
      },
      "outputs": [],
      "source": [
        "X_train_lm = X_train_lm.reshape(-1,1)\n",
        "X_test_lm = X_test_lm.reshape(-1,1)"
      ]
    },
    {
      "cell_type": "code",
      "execution_count": null,
      "metadata": {
        "id": "mrlytJHsORIu",
        "outputId": "81d6b2ae-0fb1-42ab-9cc4-90c413a6b177"
      },
      "outputs": [
        {
          "name": "stdout",
          "output_type": "stream",
          "text": [
            "(140, 1)\n",
            "(140,)\n",
            "(60, 1)\n",
            "(60,)\n"
          ]
        }
      ],
      "source": [
        "print(X_train_lm.shape)\n",
        "print(y_train_lm.shape)\n",
        "print(X_test_lm.shape)\n",
        "print(y_test_lm.shape)"
      ]
    },
    {
      "cell_type": "code",
      "execution_count": null,
      "metadata": {
        "id": "4DTLGiZrORIu",
        "outputId": "5051d168-83c5-4d83-fa08-5f408d8c4b68"
      },
      "outputs": [
        {
          "data": {
            "text/plain": [
              "LinearRegression(copy_X=True, fit_intercept=True, n_jobs=1, normalize=False)"
            ]
          },
          "execution_count": 32,
          "metadata": {},
          "output_type": "execute_result"
        }
      ],
      "source": [
        "from sklearn.linear_model import LinearRegression\n",
        "\n",
        "# Representing LinearRegression as lr(Creating LinearRegression Object)\n",
        "lm = LinearRegression()\n",
        "\n",
        "# Fit the model using lr.fit()\n",
        "lm.fit(X_train_lm, y_train_lm)"
      ]
    },
    {
      "cell_type": "code",
      "execution_count": null,
      "metadata": {
        "id": "Bnnu7xnmORIu",
        "outputId": "d238a4e4-1dfe-4051-f7b1-c447ca8dbd80"
      },
      "outputs": [
        {
          "name": "stdout",
          "output_type": "stream",
          "text": [
            "6.948683200001357\n",
            "[0.05454575]\n"
          ]
        }
      ],
      "source": [
        "print(lm.intercept_)\n",
        "print(lm.coef_)"
      ]
    },
    {
      "cell_type": "markdown",
      "metadata": {
        "id": "6B49Qn4GORIv"
      },
      "source": [
        "The equationwe get is the same as what we got before!\n",
        "\n",
        "$ Sales = 6.948 + 0.054* TV $"
      ]
    },
    {
      "cell_type": "markdown",
      "metadata": {
        "id": "-nA5uMH9ORIv"
      },
      "source": [
        "Sklearn linear model is useful as it is compatible with a lot of sklearn utilites (cross validation, grid search etc.)"
      ]
    },
    {
      "cell_type": "markdown",
      "metadata": {
        "id": "QKFytDQwORIv"
      },
      "source": [
        " "
      ]
    },
    {
      "cell_type": "markdown",
      "metadata": {
        "id": "q-49tLwvORIv"
      },
      "source": [
        " "
      ]
    },
    {
      "cell_type": "markdown",
      "metadata": {
        "id": "6FtBv5LMORIv"
      },
      "source": [
        "  "
      ]
    },
    {
      "cell_type": "markdown",
      "metadata": {
        "id": "y9JqXZSLORIv"
      },
      "source": [
        " "
      ]
    },
    {
      "cell_type": "markdown",
      "metadata": {
        "id": "cmcJ5UKhORIv"
      },
      "source": [
        " "
      ]
    },
    {
      "cell_type": "markdown",
      "metadata": {
        "id": "N7gWn7wWORIw"
      },
      "source": [
        " "
      ]
    },
    {
      "cell_type": "markdown",
      "metadata": {
        "id": "wV_l8BmsORIw"
      },
      "source": [
        " "
      ]
    },
    {
      "cell_type": "markdown",
      "metadata": {
        "id": "n2bSRMhQORIw"
      },
      "source": [
        " "
      ]
    },
    {
      "cell_type": "markdown",
      "metadata": {
        "id": "p8oxZKkOORIw"
      },
      "source": [
        "---\n",
        "## Addressing some common questions/doubts on Simple Linear Regression\n",
        "---"
      ]
    },
    {
      "cell_type": "markdown",
      "metadata": {
        "id": "3x-8wIPuORIw"
      },
      "source": [
        "### Q: Why is it called 'R-squared'?"
      ]
    },
    {
      "cell_type": "markdown",
      "metadata": {
        "id": "taKD8BMjORIw"
      },
      "source": [
        "Based on what we learnt so far, do you see it? Can you answer this?\n",
        " \n",
        " \n",
        " \n",
        " \n",
        " \n",
        " "
      ]
    },
    {
      "cell_type": "markdown",
      "metadata": {
        "id": "0wrflU6IORIw"
      },
      "source": [
        ".\n",
        "\n",
        ".\n",
        " \n",
        ".\n",
        "\n",
        ".\n",
        " \n",
        "  #### Drumroll...\n",
        "  \n",
        ".\n",
        " \n",
        ".\n",
        "\n",
        ".\n",
        "\n",
        "."
      ]
    },
    {
      "cell_type": "markdown",
      "metadata": {
        "id": "gaxLyDEdORIx"
      },
      "source": [
        " \n",
        " \n",
        " \n",
        " \n",
        " \n",
        " \n",
        " "
      ]
    },
    {
      "cell_type": "markdown",
      "metadata": {
        "id": "aR03EtuzORIx"
      },
      "source": [
        " \n",
        " \n",
        " \n",
        " \n",
        " \n",
        " \n",
        " "
      ]
    },
    {
      "cell_type": "markdown",
      "metadata": {
        "id": "LP69naZFORIx"
      },
      "source": [
        " \n",
        " \n",
        " \n",
        " \n",
        " \n",
        " \n",
        " "
      ]
    },
    {
      "cell_type": "code",
      "execution_count": null,
      "metadata": {
        "scrolled": true,
        "id": "F-G9swSeORIx",
        "outputId": "746acf0f-cf1c-4ce1-a6e6-b06b7ecfedf7"
      },
      "outputs": [
        {
          "name": "stdout",
          "output_type": "stream",
          "text": [
            "[[1.         0.90321277]\n",
            " [0.90321277 1.        ]]\n"
          ]
        }
      ],
      "source": [
        "corrs = np.corrcoef(X_train, y_train)\n",
        "print(corrs)"
      ]
    },
    {
      "cell_type": "code",
      "execution_count": null,
      "metadata": {
        "id": "mvFTs-6tORIx",
        "outputId": "84d2359c-f447-4838-ee09-f5c21820fd9d"
      },
      "outputs": [
        {
          "data": {
            "text/plain": [
              "0.8157933136480384"
            ]
          },
          "execution_count": 35,
          "metadata": {},
          "output_type": "execute_result"
        }
      ],
      "source": [
        "corrs[0,1] ** 2"
      ]
    },
    {
      "cell_type": "markdown",
      "metadata": {
        "id": "VOaxmRR_ORIx"
      },
      "source": [
        "Correlation (Pearson) is also called **\"r\"** or **\"Pearson's R\"**"
      ]
    },
    {
      "cell_type": "markdown",
      "metadata": {
        "id": "11KtJWRyORIx"
      },
      "source": [
        " \n",
        " \n",
        " \n",
        " \n",
        " \n",
        " \n",
        " "
      ]
    },
    {
      "cell_type": "markdown",
      "metadata": {
        "id": "-ZgwAigkORIy"
      },
      "source": [
        " "
      ]
    },
    {
      "cell_type": "markdown",
      "metadata": {
        "id": "6XKZS1W0ORIy"
      },
      "source": [
        "### Q: What is a good RMSE? Is there some RMSE that I should aim for?"
      ]
    },
    {
      "cell_type": "markdown",
      "metadata": {
        "id": "14ZWdIzoORIy"
      },
      "source": [
        "<br>\n",
        "\n",
        "<br>\n",
        "\n",
        "You should be able to answer this by now!\n",
        "\n",
        "\n",
        "<br>\n",
        "\n",
        "\n",
        "<br>\n",
        "\n",
        "\n",
        "\n",
        "Look at \"Sharma ji ka beta\"; he could answer this in a moment. How lucky is Sharma ji to have such a smart kid!"
      ]
    },
    {
      "cell_type": "markdown",
      "metadata": {
        "id": "Qfw4TUihORIy"
      },
      "source": [
        " \n",
        " \n",
        " \n",
        " \n",
        " \n",
        " \n",
        " "
      ]
    },
    {
      "cell_type": "markdown",
      "metadata": {
        "id": "qcwjp6R1ORIy"
      },
      "source": [
        ".\n",
        "\n",
        ".\n",
        " \n",
        ".\n",
        "\n",
        ".\n",
        " \n",
        "  #### Drumroll...\n",
        "  \n",
        ".\n",
        " \n",
        ".\n",
        "\n",
        ".\n",
        "\n",
        "."
      ]
    },
    {
      "cell_type": "markdown",
      "metadata": {
        "id": "LE2GocF1ORIy"
      },
      "source": [
        " \n",
        " \n",
        " \n",
        " \n",
        " \n",
        " \n",
        " "
      ]
    },
    {
      "cell_type": "markdown",
      "metadata": {
        "id": "oYj0U24zORIy"
      },
      "source": [
        "The RMSE:\n",
        " - depends on the units of the Y variables\n",
        " - is NOT a normalized measure\n",
        " \n",
        "While it can't really tell you of the gooodness of the particular model, it can help you compare models. \n",
        "\n",
        "A better measure is R squared, which is normalized."
      ]
    },
    {
      "cell_type": "markdown",
      "metadata": {
        "id": "3emsHCqkORIy"
      },
      "source": [
        "<br>\n",
        "<br>\n",
        "<br>\n",
        "<br>\n",
        "<br>\n",
        "<br>\n",
        "<br>\n",
        "<br>\n",
        "<br>\n",
        "<br>\n",
        "<br>"
      ]
    },
    {
      "cell_type": "markdown",
      "metadata": {
        "id": "-D_cTzXRORIy"
      },
      "source": [
        "### Q: Does scaling have an impact on the model? When should I scale?"
      ]
    },
    {
      "cell_type": "markdown",
      "metadata": {
        "id": "n_83XGF-ORIz"
      },
      "source": [
        "<br>\n",
        "<br>\n",
        "<br>\n",
        "<br>\n",
        "<br>\n",
        "<br>"
      ]
    },
    {
      "cell_type": "markdown",
      "metadata": {
        "id": "YrfjZ_MVORIz"
      },
      "source": [
        "While the true benefits of scaling will be apparent during future modules, at this juncture we can discuss if it has an impact on the model.\n",
        "\n",
        "We'll rebuild the model after scaling the predictor and see what changes.\n",
        "\n",
        "The most popular methods for scaling:\n",
        "1. Min-Max Scaling\n",
        "2. Standard Scaling"
      ]
    },
    {
      "cell_type": "code",
      "execution_count": null,
      "metadata": {
        "id": "NV2JSUBnORIz"
      },
      "outputs": [],
      "source": [
        "from sklearn.model_selection import train_test_split\n",
        "X_train, X_test, y_train, y_test = train_test_split(X, y, train_size = 0.7, test_size = 0.3, random_state = 100)"
      ]
    },
    {
      "cell_type": "markdown",
      "metadata": {
        "id": "gJI6mXoDORIz"
      },
      "source": [
        "#### SciKit Learn has these scaling utilities handy"
      ]
    },
    {
      "cell_type": "code",
      "execution_count": null,
      "metadata": {
        "id": "tWtY3H5CORIz"
      },
      "outputs": [],
      "source": [
        "from sklearn.preprocessing import StandardScaler, MinMaxScaler"
      ]
    },
    {
      "cell_type": "code",
      "execution_count": null,
      "metadata": {
        "id": "i_pCeGAUORIz"
      },
      "outputs": [],
      "source": [
        "# One aspect that you need to take care of is that the 'fit_transform' can be performed on 2D arrays only. So you need to\n",
        "# reshape your 'X_train_scaled' and 'y_trained_scaled' data in order to perform the standardisation.\n",
        "X_train_scaled = X_train.reshape(-1,1)\n",
        "y_train_scaled = y_train.reshape(-1,1)"
      ]
    },
    {
      "cell_type": "code",
      "execution_count": null,
      "metadata": {
        "id": "nBzFDvgsORIz",
        "outputId": "0e2726a7-4662-48fe-c380-0f6860903d80"
      },
      "outputs": [
        {
          "data": {
            "text/plain": [
              "(140, 1)"
            ]
          },
          "execution_count": 39,
          "metadata": {},
          "output_type": "execute_result"
        }
      ],
      "source": [
        "X_train_scaled.shape"
      ]
    },
    {
      "cell_type": "code",
      "execution_count": null,
      "metadata": {
        "id": "2xGHFZUQORIz"
      },
      "outputs": [],
      "source": [
        "# Create a scaler object using StandardScaler()\n",
        "scaler = StandardScaler()\n",
        "#'Fit' and transform the train set; and transform using the fit on the test set later\n",
        "X_train_scaled = scaler.fit_transform(X_train_scaled)\n",
        "y_train_scaled = scaler.fit_transform(y_train_scaled)"
      ]
    },
    {
      "cell_type": "code",
      "execution_count": null,
      "metadata": {
        "id": "uTm8-QgjORI0",
        "outputId": "6f80f46f-d3df-45c5-c651-0098b90737c0"
      },
      "outputs": [
        {
          "name": "stdout",
          "output_type": "stream",
          "text": [
            "mean and sd for X_train_scaled: 2.5376526277146434e-17 0.9999999999999999\n",
            "mean and sd for y_train_scaled: -2.5376526277146434e-16 1.0\n"
          ]
        }
      ],
      "source": [
        "print(\"mean and sd for X_train_scaled:\", np.mean(X_train_scaled), np.std(X_train_scaled))\n",
        "print(\"mean and sd for y_train_scaled:\", np.mean(y_train_scaled), np.std(y_train_scaled))"
      ]
    },
    {
      "cell_type": "code",
      "execution_count": null,
      "metadata": {
        "id": "TttbcvKrORI0"
      },
      "outputs": [],
      "source": [
        "# Let's fit the regression line following exactly the same steps as done before\n",
        "X_train_scaled = sm.add_constant(X_train_scaled)\n",
        "\n",
        "lr_scaled = sm.OLS(y_train_scaled, X_train_scaled).fit()"
      ]
    },
    {
      "cell_type": "code",
      "execution_count": null,
      "metadata": {
        "id": "n7P5rgdKORI0",
        "outputId": "523faf2f-0443-4adc-d0b4-395ec11bd049"
      },
      "outputs": [
        {
          "data": {
            "text/plain": [
              "array([-2.91433544e-16,  9.03212773e-01])"
            ]
          },
          "execution_count": 43,
          "metadata": {},
          "output_type": "execute_result"
        }
      ],
      "source": [
        "# Check the parameters\n",
        "lr_scaled.params"
      ]
    },
    {
      "cell_type": "markdown",
      "metadata": {
        "id": "rl7X2CqoORI0"
      },
      "source": [
        "As you might notice, the value of the parameters have changed since we have changed the scale."
      ]
    },
    {
      "cell_type": "markdown",
      "metadata": {
        "id": "zoD-h8dhORI0"
      },
      "source": [
        "Let's look at the statistics of the model, to see if any other aspect of the model has changed."
      ]
    },
    {
      "cell_type": "code",
      "execution_count": null,
      "metadata": {
        "id": "mYwxxylRORI0",
        "outputId": "517d7ef6-04d7-4ccf-fd3d-c097e1b68e70"
      },
      "outputs": [
        {
          "name": "stdout",
          "output_type": "stream",
          "text": [
            "                            OLS Regression Results                            \n",
            "==============================================================================\n",
            "Dep. Variable:                      y   R-squared:                       0.816\n",
            "Model:                            OLS   Adj. R-squared:                  0.814\n",
            "Method:                 Least Squares   F-statistic:                     611.2\n",
            "Date:                Thu, 13 Sep 2018   Prob (F-statistic):           1.52e-52\n",
            "Time:                        22:39:46   Log-Likelihood:                -80.233\n",
            "No. Observations:                 140   AIC:                             164.5\n",
            "Df Residuals:                     138   BIC:                             170.3\n",
            "Df Model:                           1                                         \n",
            "Covariance Type:            nonrobust                                         \n",
            "==============================================================================\n",
            "                 coef    std err          t      P>|t|      [0.025      0.975]\n",
            "------------------------------------------------------------------------------\n",
            "const      -2.914e-16      0.037  -7.98e-15      1.000      -0.072       0.072\n",
            "x1             0.9032      0.037     24.722      0.000       0.831       0.975\n",
            "==============================================================================\n",
            "Omnibus:                        0.027   Durbin-Watson:                   2.196\n",
            "Prob(Omnibus):                  0.987   Jarque-Bera (JB):                0.150\n",
            "Skew:                          -0.006   Prob(JB):                        0.928\n",
            "Kurtosis:                       2.840   Cond. No.                         1.00\n",
            "==============================================================================\n",
            "\n",
            "Warnings:\n",
            "[1] Standard Errors assume that the covariance matrix of the errors is correctly specified.\n"
          ]
        }
      ],
      "source": [
        "print(lr_scaled.summary())"
      ]
    },
    {
      "cell_type": "markdown",
      "metadata": {
        "id": "6n-tyhQSORI0"
      },
      "source": [
        "#### Model statistics and goodness of fit remain unchanged.\n",
        "\n",
        "##### So why scale at all?\n",
        "- Helps with interpretation (we'll be able to appreciate this better in later modules)\n",
        "- Faster convergence of gradient descent"
      ]
    },
    {
      "cell_type": "code",
      "source": [
        "# r2 for model with "
      ],
      "metadata": {
        "id": "weFE-wu_607M"
      },
      "execution_count": null,
      "outputs": []
    }
  ],
  "metadata": {
    "kernelspec": {
      "display_name": "Python 3",
      "language": "python",
      "name": "python3"
    },
    "language_info": {
      "codemirror_mode": {
        "name": "ipython",
        "version": 3
      },
      "file_extension": ".py",
      "mimetype": "text/x-python",
      "name": "python",
      "nbconvert_exporter": "python",
      "pygments_lexer": "ipython3",
      "version": "3.7.3"
    },
    "colab": {
      "provenance": []
    }
  },
  "nbformat": 4,
  "nbformat_minor": 0
}